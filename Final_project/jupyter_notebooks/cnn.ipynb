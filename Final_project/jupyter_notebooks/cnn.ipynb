{
 "cells": [
  {
   "cell_type": "markdown",
   "metadata": {},
   "source": [
    "# 將Bitstream File 燒錄至板子上"
   ]
  },
  {
   "cell_type": "code",
   "execution_count": 37,
   "metadata": {},
   "outputs": [
    {
     "name": "stderr",
     "output_type": "stream",
     "text": [
      "/usr/local/lib/python3.6/dist-packages/pynq/overlay.py:299: UserWarning: Users will not get PARAMETERS / REGISTERS information through TCL files. HWH file is recommended.\n",
      "  warnings.warn(message, UserWarning)\n"
     ]
    }
   ],
   "source": [
    "from pynq import Overlay\n",
    "Design = Overlay(\"bitstream/CNN.bit\")"
   ]
  },
  {
   "cell_type": "markdown",
   "metadata": {},
   "source": [
    "# 從硬體檔案中讀取這個系統中的 AXI ADDRESS"
   ]
  },
  {
   "cell_type": "code",
   "execution_count": 38,
   "metadata": {},
   "outputs": [
    {
     "data": {
      "text/plain": [
       "{'memory_ctrl_0': {'addr_range': 65536,\n",
       "  'driver': pynq.overlay.DefaultIP,\n",
       "  'fullpath': 'memory_ctrl_0',\n",
       "  'gpio': {},\n",
       "  'interrupts': {},\n",
       "  'mem_id': 'SEG_memory_ctrl_0_S00_AXI_reg',\n",
       "  'phys_addr': 1136656384,\n",
       "  'state': None,\n",
       "  'type': 'xilinx.com:user:memory_ctrl:1.0'}}"
      ]
     },
     "execution_count": 38,
     "metadata": {},
     "output_type": "execute_result"
    }
   ],
   "source": [
    "Design.ip_dict"
   ]
  },
  {
   "cell_type": "markdown",
   "metadata": {},
   "source": [
    "## 取出 ADDER 這個 AXI IP 的 Base Address 以及 Address Range\n",
    "\n",
    "##### 可以檢查這個地址是否和Vivado中 Address Editor 內 ADDER 的 Base Address 相同"
   ]
  },
  {
   "cell_type": "code",
   "execution_count": 39,
   "metadata": {},
   "outputs": [
    {
     "name": "stdout",
     "output_type": "stream",
     "text": [
      "The Base Address of adder is : 43c00000\n",
      "The Address Range of adder is : 10000\n"
     ]
    }
   ],
   "source": [
    "CNN_ADDR = Design.ip_dict['memory_ctrl_0']['phys_addr']\n",
    "CNN_ADDR_range = Design.ip_dict['memory_ctrl_0']['addr_range']\n",
    "print(\"The Base Address of adder is : \" + format(CNN_ADDR, '02x'))\n",
    "print(\"The Address Range of adder is : \" + format(CNN_ADDR_range, '02x'))"
   ]
  },
  {
   "cell_type": "markdown",
   "metadata": {},
   "source": [
    "## Import libraries"
   ]
  },
  {
   "cell_type": "code",
   "execution_count": 40,
   "metadata": {},
   "outputs": [],
   "source": [
    "from PIL import Image\n",
    "import math\n",
    "import numpy as np\n",
    "import cv2"
   ]
  },
  {
   "cell_type": "markdown",
   "metadata": {},
   "source": [
    "## 使用Pynq 內建的 MMIO 以達成 PS 和 AXI IP 之間的溝通\n",
    "\n",
    "\n",
    "##### MMIO(IP_BASE_ADDRESS, ADDRESS_RANGE)"
   ]
  },
  {
   "cell_type": "code",
   "execution_count": 41,
   "metadata": {},
   "outputs": [],
   "source": [
    "from pynq import MMIO\n",
    "cnn = MMIO(CNN_ADDR, CNN_ADDR_range)"
   ]
  },
  {
   "cell_type": "code",
   "execution_count": 42,
   "metadata": {},
   "outputs": [],
   "source": [
    "def write_data_to_feature(addr,data):\n",
    "    \n",
    "    cnn.write(0x4,2)\n",
    "    cnn.write(0x8,data)\n",
    "    cnn.write(0xc,addr)\n",
    "    cnn.write(0x0,1)\n",
    "    cnn.write(0x0,0)\n",
    "    answer=0\n",
    "    \n",
    "    while (answer != 1):\n",
    "        answer=cnn.read(0x0)\n",
    "    \n",
    "    "
   ]
  },
  {
   "cell_type": "code",
   "execution_count": 43,
   "metadata": {},
   "outputs": [],
   "source": [
    "def write_data_to_weight(addr,data):\n",
    "    \n",
    "    cnn.write(0x14,2)\n",
    "    cnn.write(0x18,data)\n",
    "    cnn.write(0x1c,addr)\n",
    "    cnn.write(0x10,1)\n",
    "    cnn.write(0x10,0)\n",
    "    answer=0\n",
    "    \n",
    "    while (answer != 1):\n",
    "        answer=cnn.read(0x10)\n",
    "    "
   ]
  },
  {
   "cell_type": "code",
   "execution_count": 44,
   "metadata": {},
   "outputs": [],
   "source": [
    "def read_data_from_feature(addr):\n",
    "    \n",
    "    cnn.write(0x4,1)\n",
    "    cnn.write(0xc,addr)\n",
    "    cnn.write(0x0,1)\n",
    "    cnn.write(0x0,0)\n",
    "    answer=0\n",
    "    \n",
    "    while (answer != 1):\n",
    "        answer=cnn.read(0x0)\n",
    "    \n",
    "    data=cnn.read(0x4)\n",
    "    return data\n",
    "    "
   ]
  },
  {
   "cell_type": "code",
   "execution_count": 45,
   "metadata": {},
   "outputs": [],
   "source": [
    "def read_data_from_weight(addr):\n",
    "    \n",
    "    cnn.write(0x14,1)\n",
    "    cnn.write(0x1c,addr)\n",
    "    cnn.write(0x10,1)\n",
    "    cnn.write(0x10,0)\n",
    "    answer=0\n",
    "    \n",
    "    while (answer != 1):\n",
    "        answer=cnn.read(0x10)\n",
    "    \n",
    "    data=cnn.read(0x14)\n",
    "    return data\n",
    "        \n",
    "    "
   ]
  },
  {
   "cell_type": "code",
   "execution_count": 46,
   "metadata": {},
   "outputs": [],
   "source": [
    "def hex2dec(string_num):\n",
    "    return str(int(string_num.upper(), 16)) "
   ]
  },
  {
   "cell_type": "markdown",
   "metadata": {},
   "source": [
    "## 輸入input"
   ]
  },
  {
   "cell_type": "code",
   "execution_count": 47,
   "metadata": {},
   "outputs": [],
   "source": [
    "img = cv2.imread('images/1.png', 0)\n",
    "\n",
    "h = img.shape[0]\n",
    "w = img.shape[1]\n",
    "img = img/255\n",
    "img = np.round(img*math.pow(2,12))\n",
    "img = img.astype(np.int64)\n",
    "img = np.reshape(img,(h*w))\n",
    "img = img.tolist()\n",
    "for i in range(len(img)):\n",
    "    pixel = int(img[i])\n",
    "    write_data_to_weight(i,pixel)\n"
   ]
  },
  {
   "cell_type": "markdown",
   "metadata": {},
   "source": [
    "## 輸入Weight & Bias "
   ]
  },
  {
   "cell_type": "code",
   "execution_count": 48,
   "metadata": {},
   "outputs": [],
   "source": [
    "f = open('conv_w+b&fc_w.dat')    #開啟資料檔案檔案\n",
    "lines = f.readlines()      #把全部資料檔案讀到一個列表lines中\n",
    "a=[]         \n",
    "for line in lines:   #把lines中的資料逐行讀取出來\n",
    "    para = line.strip('\\n')  #處理逐行資料：strip表示把頭尾的'\\n'去掉\n",
    "    dec_para = int(hex2dec(para))\n",
    "    a.append(dec_para)\n",
    "    \n",
    "for i in range(len(a)):\n",
    "    write_data_to_weight(i+784,a[i])\n",
    "    \n",
    "\n"
   ]
  },
  {
   "cell_type": "markdown",
   "metadata": {},
   "source": [
    "## 輸入指令，並做輸入指令的前處理"
   ]
  },
  {
   "cell_type": "code",
   "execution_count": 49,
   "metadata": {},
   "outputs": [],
   "source": [
    "conv_input_size = 28\n",
    "kernel_size = 5\n",
    "kernel_num = 6\n",
    "stride = 1\n",
    "operation=1\n",
    "instruction =  conv_input_size + (kernel_size<<7) + (kernel_num<<10) + (stride<<14) + (operation<<17)\n",
    "write_data_to_feature(4095,instruction)\n"
   ]
  },
  {
   "cell_type": "code",
   "execution_count": 50,
   "metadata": {},
   "outputs": [],
   "source": [
    "pooling_input_size = 24\n",
    "pooling_size = 2\n",
    "pooling_kernel_num = 6\n",
    "operation=2\n",
    "instruction = pooling_input_size + (pooling_size<<10) + (pooling_kernel_num<<13) + (operation<<17)\n",
    "write_data_to_feature(4094,instruction)"
   ]
  },
  {
   "cell_type": "code",
   "execution_count": 51,
   "metadata": {},
   "outputs": [],
   "source": [
    "feature_num = 6 \n",
    "fc_input_size= 12\n",
    "class_num = 10\n",
    "operation=3\n",
    "instruction = class_num + (fc_input_size<<8) + (feature_num<<12) + (operation<<17)\n",
    "write_data_to_feature(4093,instruction)"
   ]
  },
  {
   "cell_type": "code",
   "execution_count": 52,
   "metadata": {},
   "outputs": [],
   "source": [
    "operation=4\n",
    "instruction = (operation<<17)\n",
    "write_data_to_feature(4092,instruction)\n",
    "cnn.write(0x4,3)\n"
   ]
  },
  {
   "cell_type": "code",
   "execution_count": null,
   "metadata": {},
   "outputs": [],
   "source": [
    "done = 0\n",
    "while(done != 1):\n",
    "    done = cnn.read(0x20)\n",
    "\n",
    "for i in range(10):\n",
    "    ans = read_data_from_feature(i+1000)\n",
    "    print(ans)\n",
    "    \n"
   ]
  },
  {
   "cell_type": "code",
   "execution_count": null,
   "metadata": {},
   "outputs": [],
   "source": []
  }
 ],
 "metadata": {
  "kernelspec": {
   "display_name": "Python 3",
   "language": "python",
   "name": "python3"
  },
  "language_info": {
   "codemirror_mode": {
    "name": "ipython",
    "version": 3
   },
   "file_extension": ".py",
   "mimetype": "text/x-python",
   "name": "python",
   "nbconvert_exporter": "python",
   "pygments_lexer": "ipython3",
   "version": "3.6.5"
  }
 },
 "nbformat": 4,
 "nbformat_minor": 2
}
